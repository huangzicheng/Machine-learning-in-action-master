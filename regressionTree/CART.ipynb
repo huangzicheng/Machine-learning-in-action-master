{
 "cells": [
  {
   "cell_type": "code",
   "execution_count": 1,
   "metadata": {
    "collapsed": true
   },
   "outputs": [
    {
     "name": "stdout",
     "output_type": "stream",
     "text": [
      "(200L, 2L)\n"
     ]
    }
   ],
   "source": [
    "#介绍CART(classification and regression tree)分类回归树\n",
    "\n",
    "#先介绍，决策树对于连续性数值的回归问题————回归树\n",
    "#1，切分数据：二元切分法，x>a和x<=a,其中的a属于某个特征xi的所有取值集合\n",
    "#2,选择特征：选择使得，切分数据的总均方差最小\n",
    "#3,预测：使用切分数据集的平均值，代表预测值\n",
    "\n",
    "#先导入数据\n",
    "import numpy as np\n",
    "def loadDataSet(fileName):      \n",
    "    dataMat = []                #assume last column is target value\n",
    "    fr = open(fileName)\n",
    "    for line in fr.readlines():\n",
    "        curLine = line.strip().split('\\t')\n",
    "        floatLine = map(float,curLine) #map all elements to float()\n",
    "        dataMat.append(floatLine) #这里把最后一列作为目标变量，y\n",
    "    return np.mat(dataMat)\n",
    "\n",
    "myData= loadDataSet('regressionTree/ex00.txt')\n",
    "print myData.shape\n",
    "\n",
    "\n",
    "\n"
   ]
  },
  {
   "cell_type": "code",
   "execution_count": 2,
   "metadata": {},
   "outputs": [
    {
     "data": {
      "image/png": "[encoded data removed]",
      "text/plain": [
       "<matplotlib.figure.Figure at 0x791ef60>"
      ]
     },
     "metadata": {},
     "output_type": "display_data"
    }
   ],
   "source": [
    "#可视化一下ex00.txt的数据\n",
    "import matplotlib.pyplot as plt\n",
    "plt.scatter(myData[:,0].A,myData[:,1].A,color=\"blue\") #np.matrix.A--->matrix转化为array\n",
    "plt.xlabel(\"x\")\n",
    "plt.ylabel(\"y\")\n",
    "plt.show()\n"
   ]
  },
  {
   "cell_type": "code",
   "execution_count": 3,
   "metadata": {},
   "outputs": [
    {
     "name": "stdout",
     "output_type": "stream",
     "text": [
      "(116L, 2L) (84L, 2L)\n"
     ]
    }
   ],
   "source": [
    "#二元切分法,x>a和x<=a,其中的a属于某个特征xi的所有取值集合\n",
    "#notice:切分的特征并没有删除，这与前面ID3算法的决策树分类中，切分数据不同!!!\n",
    "\n",
    "def binSplitDataSet(dataSet, feature, value):\n",
    "    mat0 = dataSet[np.nonzero(dataSet[:,feature] > value)[0],:]\n",
    "    mat1 = dataSet[np.nonzero(dataSet[:,feature] <= value)[0],:]\n",
    "    return mat0,mat1\n",
    "#测试一下\n",
    "mat0,mat1 = binSplitDataSet(myData,0,0.5)\n",
    "print mat0.shape,mat1.shape\n",
    "\n"
   ]
  },
  {
   "cell_type": "code",
   "execution_count": 4,
   "metadata": {},
   "outputs": [],
   "source": [
    "#树回归的叶子节点————数据集合中y的均值\n",
    "def regLeaf(dataSet):\n",
    "    return np.mean(dataSet[:,-1])\n",
    "\n",
    "#用y的总均方差代表连续型数据的混乱度\n",
    "def regErr(dataSet):\n",
    "    return np.var(dataSet[:,-1]) * np.shape(dataSet)[0] #总均方差=均方差*num\n",
    "\n",
    "#选择合适的特征划分:返回最好的特征bestIndex,和对应的值bestValue\n",
    "\n",
    "def chooseBestSplit(dataSet, leafType=regLeaf, errType=regErr, ops=(1,4)):\n",
    "    tolS = ops[0] #均方差变化的最小幅度，用于预剪枝\n",
    "    tolN = ops[1] #划分的数据集的最小size\n",
    "   \n",
    "    if len(set(dataSet[:,-1].T.tolist()[0])) == 1: #exit condition 1:\n",
    "        # 如果所有的y的值都相等，这里用set去重,直接返回叶子节点，不做划分\n",
    "        return None, leafType(dataSet) #直接返回\n",
    "    m,n = np.shape(dataSet) #数据集合大小\n",
    "    #the choice of the best feature is driven by Reduction in RSS error from mean\n",
    "    S = errType(dataSet) #原来数据集合的总均方差\n",
    "    bestS = np.inf\n",
    "    bestIndex = 0\n",
    "    bestValue = 0\n",
    "    for featureIndex in range(n-1): #遍历每一个特征：因为下标-1是y的值，不是特征\n",
    "        for splitVal in set(dataSet[:,featureIndex].A.ravel()): #遍历当前特征的每一个取值\n",
    "            mat0, mat1 = binSplitDataSet(dataSet, featureIndex, splitVal)\n",
    "            if (np.shape(mat0)[0] < tolN) or (np.shape(mat1)[0] < tolN): \n",
    "                #如果划分之后的数据集合size太小了，直接跳过，不划分\n",
    "                continue\n",
    "            newS = errType(mat0) + errType(mat1) #划分之后的两个小数据集合的总均方差\n",
    "            if newS < bestS:  #选出最优值\n",
    "                bestIndex = featureIndex\n",
    "                bestValue = splitVal\n",
    "                bestS = newS\n",
    "    #if the decrease (S-bestS) is less than a threshold,don't do the split\n",
    "    if (S - bestS) < tolS:\n",
    "        #误差变化的幅度太小，直接返回叶子节点，不做划分\n",
    "        return None, leafType(dataSet) #exit condition 2 #退出条件2\n",
    "    mat0, mat1 = binSplitDataSet(dataSet, bestIndex, bestValue) #最优的划分子集合\n",
    "    if (np.shape(mat0)[0] < tolN) or (np.shape(mat1)[0] < tolN):  #exit condition 3\n",
    "        #划分的子集合太小,直接返回叶子节点，不做划分\n",
    "        return None, leafType(dataSet)\n",
    "    return bestIndex,bestValue#returns the best feature to split on\n",
    "                              #and the value used for that split\n"
   ]
  },
  {
   "cell_type": "code",
   "execution_count": 5,
   "metadata": {},
   "outputs": [
    {
     "name": "stdout",
     "output_type": "stream",
     "text": [
      "{'spInd': 0, 'spVal': 0.48813000000000001, 'right': -0.044650285714285719, 'left': 1.0180967672413792}\n"
     ]
    }
   ],
   "source": [
    "#用一个全局变量，来保存最优的划分数据\n",
    "bestFeatures=[]\n",
    "bestValues=[]\n",
    "\n",
    "\n",
    "#递归创建回归树\n",
    "def createTree(dataSet, leafType=regLeaf, errType=regErr, ops=(1,4)):\n",
    "    #assume dataSet is NumPy Mat so we can array filtering\n",
    "    feature, val = chooseBestSplit(dataSet, leafType, errType, ops)#choose the best split\n",
    "    if feature == None: #如果返回的是没有划分，和叶子节点的值\n",
    "        return val #if the splitting hit a stop condition return val\n",
    "    retTree = {}\n",
    "    retTree['spInd'] = feature\n",
    "    retTree['spVal'] = val\n",
    "    \n",
    "    bestFeatures.append(feature)#保存下来\n",
    "    bestValues.append(val)\n",
    "    \n",
    "    lSet, rSet = binSplitDataSet(dataSet, feature, val) #分成左右两个子树\n",
    "    retTree['left'] = createTree(lSet, leafType, errType, ops)\n",
    "    retTree['right'] = createTree(rSet, leafType, errType, ops)\n",
    "    \n",
    "    return retTree  \n",
    "\n",
    "#测试一下\n",
    "myData= loadDataSet('regressionTree/ex00.txt')\n",
    "myTree = createTree(myData)\n",
    "print myTree\n"
   ]
  },
  {
   "cell_type": "code",
   "execution_count": 6,
   "metadata": {},
   "outputs": [
    {
     "data": {
      "image/png": "[encoded data removed]",
      "text/plain": [
       "<matplotlib.figure.Figure at 0x7cb2400>"
      ]
     },
     "metadata": {},
     "output_type": "display_data"
    }
   ],
   "source": [
    "#可视化一下ex00.txt数据集的划分界限\n",
    "\n",
    "import matplotlib.pyplot as plt\n",
    "plt.scatter(myData[:,0].A,myData[:,1].A,color=\"blue\")\n",
    "\n",
    "y = myData[:,-1].A\n",
    "y_min = np.min(y) - 0.1\n",
    "y_max = np.max(y) + 0.1\n",
    "y_val = np.arange(y_min,y_max,0.01)\n",
    "for i in xrange(len(bestValues)):\n",
    "    plt.plot([bestValues[i]]*y_val.shape[0],y_val,color=\"black\") #画出那条分界线\n",
    "plt.xlabel(\"x\")\n",
    "plt.ylabel(\"y\")\n",
    "plt.show()\n"
   ]
  },
  {
   "cell_type": "code",
   "execution_count": 7,
   "metadata": {},
   "outputs": [
    {
     "name": "stdout",
     "output_type": "stream",
     "text": [
      "(200L, 3L)\n{'spInd': 1, 'spVal': 0.39434999999999998, 'right': {'spInd': 1, 'spVal': 0.19783400000000001, 'right': -0.023838155555555553, 'left': 1.0289583666666666}, 'left': {'spInd': 1, 'spVal': 0.58200200000000002, 'right': 1.980035071428571, 'left': {'spInd': 1, 'spVal': 0.79758300000000004, 'right': 2.9836209534883724, 'left': 3.9871631999999999}}}\n"
     ]
    }
   ],
   "source": [
    "#测试一下ex0.txt数据集\n",
    "\n",
    "\n",
    "bestFeatures = [] #先清空一下list,注意python2没有clear（）\n",
    "bestValues = []\n",
    "\n",
    "myData= loadDataSet('regressionTree/ex0.txt')\n",
    "print myData.shape\n",
    "myTree = createTree(myData)\n",
    "print myTree\n"
   ]
  },
  {
   "cell_type": "code",
   "execution_count": 8,
   "metadata": {},
   "outputs": [
    {
     "name": "stdout",
     "output_type": "stream",
     "text": [
      "[0.39434999999999998, 0.58200200000000002, 0.79758300000000004, 0.19783400000000001]\n"
     ]
    },
    {
     "data": {
      "image/png": "[encoded data removed]",
      "text/plain": [
       "<matplotlib.figure.Figure at 0x7eab160>"
      ]
     },
     "metadata": {},
     "output_type": "display_data"
    }
   ],
   "source": [
    "#可视化一下ex0.txt数据集的划分界限\n",
    "print bestValues\n",
    "\n",
    "import matplotlib.pyplot as plt\n",
    "plt.scatter(myData[:,1].A,myData[:,-1].A,color=\"blue\")\n",
    "\n",
    "y = myData[:,-1].A\n",
    "y_min = np.min(y) - 0.1\n",
    "y_max = np.max(y) + 0.1\n",
    "y_val = np.arange(y_min,y_max,0.01)\n",
    "for i in xrange(len(bestValues)):\n",
    "    plt.plot([bestValues[i]]*y_val.shape[0],y_val,color=\"black\")\n",
    "plt.xlabel(\"x\")\n",
    "plt.ylabel(\"y\")\n",
    "plt.show()\n"
   ]
  },
  {
   "cell_type": "code",
   "execution_count": 9,
   "metadata": {},
   "outputs": [],
   "source": [
    "#接下来，构建模型树————即，叶子节点存放的不是数据集合的均值，而是数据集合的线性方程\n",
    "#最佳划分的判断：选择线性方程拟合的误差最小的划分方法\n",
    "\n",
    "def linearSolve(dataSet):   #在线性回归中，用到的求解最优w的公式\n",
    "    m,n = np.shape(dataSet)\n",
    "    X = np.mat(np.ones((m,n)))\n",
    "    Y = np.mat(np.ones((m,1)))#create a copy of data with 1 in 0th postion\n",
    "    X[:,1:n] = dataSet[:,0:n-1] #注意，这里，只改变了1-(n-1)维度的数据，因为x0=1\n",
    "    Y = dataSet[:,-1]#and strip out Y\n",
    "    xTx = X.T*X\n",
    "    if np.linalg.det(xTx) == 0.0:\n",
    "        raise NameError('This matrix is singular, cannot do inverse,\\n\\\n",
    "        try increasing the second value of ops')\n",
    "    ws = xTx.I * (X.T * Y)\n",
    "    return ws,X,Y\n",
    "\n",
    "def modelLeaf(dataSet):#模型树的叶子节点返回的是：线性方程的系数\n",
    "    ws,X,Y = linearSolve(dataSet)\n",
    "    return ws\n",
    "\n",
    "def modelErr(dataSet): #返回总的误差，用于判断划分的好坏\n",
    "    ws,X,Y = linearSolve(dataSet)\n",
    "    yHat = X * ws\n",
    "    return np.sum(np.power(Y - yHat,2))\n",
    "\n",
    "\n"
   ]
  },
  {
   "cell_type": "code",
   "execution_count": 11,
   "metadata": {},
   "outputs": [
    {
     "name": "stdout",
     "output_type": "stream",
     "text": [
      "(200L, 2L)\n"
     ]
    },
    {
     "data": {
      "image/png": "[encoded data removed]",
      "text/plain": [
       "<matplotlib.figure.Figure at 0x86b3470>"
      ]
     },
     "metadata": {},
     "output_type": "display_data"
    }
   ],
   "source": [
    "#先导入数据集合，并且可视化一下\n",
    "\n",
    "myData2 = loadDataSet('regressionTree/exp2.txt')\n",
    "print myData2.shape\n",
    "plt.scatter(myData2[:,0].A,myData2[:,-1].A,color=\"blue\")\n",
    "plt.xlabel(\"x\")\n",
    "plt.ylabel(\"y\")\n",
    "plt.show()"
   ]
  },
  {
   "cell_type": "code",
   "execution_count": 12,
   "metadata": {},
   "outputs": [
    {
     "name": "stdout",
     "output_type": "stream",
     "text": [
      "{'spInd': 0, 'spVal': 0.28547699999999998, 'right': matrix([[ 3.46877936],\n        [ 1.18521743]]), 'left': matrix([[  1.69855694e-03],\n        [  1.19647739e+01]])}\n[0.28547699999999998]\n[0]\n"
     ]
    }
   ],
   "source": [
    "#现在利用上面的数据，生成模型树\n",
    "\n",
    "bestFeatures = [] #先清空一下list,注意python2没有clear（）\n",
    "bestValues = []\n",
    "myModelTree = createTree(myData2,leafType=modelLeaf,errType=modelErr,ops=(1,10))\n",
    "print myModelTree\n",
    "\n",
    "print bestValues\n",
    "print bestFeatures\n"
   ]
  },
  {
   "cell_type": "code",
   "execution_count": 13,
   "metadata": {},
   "outputs": [
    {
     "data": {
      "image/png": "[encoded data removed]",
      "text/plain": [
       "<matplotlib.figure.Figure at 0x86c97f0>"
      ]
     },
     "metadata": {},
     "output_type": "display_data"
    }
   ],
   "source": [
    "#可视化一下exp.txt数据集的划分界限\n",
    "\n",
    "\n",
    "plt.scatter(myData2[:,0].A,myData2[:,1].A,color=\"blue\")\n",
    "\n",
    "y = myData2[:,-1].A\n",
    "y_min = np.min(y) - 0.1\n",
    "y_max = np.max(y) + 0.1\n",
    "y_val = np.arange(y_min,y_max,0.01)\n",
    "for i in xrange(len(bestValues)):\n",
    "    plt.plot([bestValues[i]]*y_val.shape[0],y_val,color=\"black\") #画出那条分界线\n",
    "plt.xlabel(\"x\")\n",
    "plt.ylabel(\"y\")\n",
    "plt.show()\n"
   ]
  },
  {
   "cell_type": "code",
   "execution_count": 14,
   "metadata": {},
   "outputs": [],
   "source": [
    "#最后看看怎么进行预测\n",
    "\n",
    "#判断是不是树，也就是字典\n",
    "def isTree(obj):\n",
    "    return (type(obj).__name__=='dict')\n",
    "\n",
    "#回归树，直接返回叶子节点的值：小数据集合的均值\n",
    "def regTreeEval(leaf, inData):\n",
    "    return float(leaf)\n",
    "\n",
    "#模型树，返回线性方程的值\n",
    "def modelTreeEval(leaf, inData):\n",
    "    n = np.shape(inData)[1]\n",
    "    X = np.mat(np.ones((1,n+1))) #x0=1\n",
    "    X[:,1:n+1] = inData\n",
    "    return float(X*leaf)\n",
    "\n",
    "#树的递归预测\n",
    "def treeForeCast(tree, inData, modelEval=regTreeEval):\n",
    "    if not isTree(tree): #如果不是树，叶子节点，则返回预测值\n",
    "        return modelEval(tree, inData)\n",
    "    if inData.A.ravel()[tree['spInd']] > tree['spVal']: #大于特征值，则是左子树\n",
    "        if isTree(tree['left']): #如果是树，继续递归\n",
    "            return treeForeCast(tree['left'], inData, modelEval) #递归\n",
    "        else: #如果是叶子节点，直接返回预测值\n",
    "            return modelEval(tree['left'], inData)\n",
    "    else: #小于等于则是右子树\n",
    "        if isTree(tree['right']): \n",
    "            return treeForeCast(tree['right'], inData, modelEval)\n",
    "        else: \n",
    "            return modelEval(tree['right'], inData)\n",
    "\n",
    "#利用生成的树，进行预测\n",
    "def createForeCast(tree, testData, modelEval=regTreeEval):\n",
    "    m=len(testData)\n",
    "    yHat = np.mat(np.zeros((m,1)))\n",
    "    for i in range(m):\n",
    "        yHat[i,0] = treeForeCast(tree, np.mat(testData[i]), modelEval) #递归预测\n",
    "    return yHat\n"
   ]
  },
  {
   "cell_type": "code",
   "execution_count": 15,
   "metadata": {},
   "outputs": [
    {
     "name": "stdout",
     "output_type": "stream",
     "text": [
      "(200L, 1L)\n"
     ]
    },
    {
     "data": {
      "image/png": "[encoded data removed]",
      "text/plain": [
       "<matplotlib.figure.Figure at 0x88cada0>"
      ]
     },
     "metadata": {},
     "output_type": "display_data"
    }
   ],
   "source": [
    "yhat = createForeCast(myModelTree,myData2[:,0:-1],modelEval=modelTreeEval)\n",
    "print yhat.shape\n",
    "\n",
    "srtIndex = myData2.A[:,0].argsort(0)#排个序\n",
    "\n",
    "plt.scatter(myData2.A[:,0],myData2.A[:,1],color=\"blue\",marker=\".\")\n",
    "plt.plot(myData2[:,0].A[srtIndex],yhat.A[srtIndex],color=\"red\",linestyle = \"-\")\n",
    "plt.xlabel(\"x\")\n",
    "plt.ylabel(\"y\")\n",
    "plt.show()\n"
   ]
  },
  {
   "cell_type": "code",
   "execution_count": null,
   "metadata": {},
   "outputs": [],
   "source": []
  }
 ],
 "metadata": {
  "kernelspec": {
   "display_name": "Python 2",
   "language": "python",
   "name": "python2"
  },
  "language_info": {
   "codemirror_mode": {
    "name": "ipython",
    "version": 2
   },
   "file_extension": ".py",
   "mimetype": "text/x-python",
   "name": "python",
   "nbconvert_exporter": "python",
   "pygments_lexer": "ipython2",
   "version": "2.7.6"
  }
 },
 "nbformat": 4,
 "nbformat_minor": 0
}
